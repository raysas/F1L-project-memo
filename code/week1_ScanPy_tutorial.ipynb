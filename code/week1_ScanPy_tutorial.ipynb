{
 "cells": [
  {
   "cell_type": "markdown",
   "metadata": {},
   "source": [
    "# ScanPy intro\n",
    "\n",
    "following video by Sanbomics: https://www.youtube.com/watch?v=uvyG9yLuNSE&list=PPSV  \n",
    "Data from GSE171524"
   ]
  },
  {
   "cell_type": "code",
   "execution_count": 1,
   "metadata": {},
   "outputs": [],
   "source": [
    "# -- if not installed through terminal run the following\n",
    "# %pip install scanpy\n",
    "\n",
    "import scanpy as sc\n",
    "import os, sys\n",
    "from IPython.display import display\n",
    "os.chdir(os.path.expanduser('..'))"
   ]
  },
  {
   "cell_type": "code",
   "execution_count": 2,
   "metadata": {},
   "outputs": [
    {
     "data": {
      "text/plain": [
       "AnnData object with n_obs × n_vars = 6099 × 34546"
      ]
     },
     "execution_count": 2,
     "metadata": {},
     "output_type": "execute_result"
    }
   ],
   "source": [
    "data = sc.read_csv('data/GSM5226574_C51ctr_raw_counts.csv').T #--- genes should be cols and cells rows\n",
    "data"
   ]
  },
  {
   "cell_type": "code",
   "execution_count": 3,
   "metadata": {},
   "outputs": [
    {
     "name": "stdout",
     "output_type": "stream",
     "text": [
      "cells\n"
     ]
    },
    {
     "data": {
      "text/html": [
       "<div>\n",
       "<style scoped>\n",
       "    .dataframe tbody tr th:only-of-type {\n",
       "        vertical-align: middle;\n",
       "    }\n",
       "\n",
       "    .dataframe tbody tr th {\n",
       "        vertical-align: top;\n",
       "    }\n",
       "\n",
       "    .dataframe thead th {\n",
       "        text-align: right;\n",
       "    }\n",
       "</style>\n",
       "<table border=\"1\" class=\"dataframe\">\n",
       "  <thead>\n",
       "    <tr style=\"text-align: right;\">\n",
       "      <th></th>\n",
       "    </tr>\n",
       "  </thead>\n",
       "  <tbody>\n",
       "    <tr>\n",
       "      <th>TAGGTACCATGGCCAC-1_1</th>\n",
       "    </tr>\n",
       "    <tr>\n",
       "      <th>ATTCACTGTAACAGGC-1_1</th>\n",
       "    </tr>\n",
       "    <tr>\n",
       "      <th>TAACTTCCAACCACGC-1_1</th>\n",
       "    </tr>\n",
       "    <tr>\n",
       "      <th>TTGGGTACACGACAAG-1_1</th>\n",
       "    </tr>\n",
       "    <tr>\n",
       "      <th>AGGCCACAGAGTCACG-1_1</th>\n",
       "    </tr>\n",
       "  </tbody>\n",
       "</table>\n",
       "</div>"
      ],
      "text/plain": [
       "Empty DataFrame\n",
       "Columns: []\n",
       "Index: [TAGGTACCATGGCCAC-1_1, ATTCACTGTAACAGGC-1_1, TAACTTCCAACCACGC-1_1, TTGGGTACACGACAAG-1_1, AGGCCACAGAGTCACG-1_1]"
      ]
     },
     "metadata": {},
     "output_type": "display_data"
    },
    {
     "name": "stdout",
     "output_type": "stream",
     "text": [
      "genes\n"
     ]
    },
    {
     "data": {
      "text/html": [
       "<div>\n",
       "<style scoped>\n",
       "    .dataframe tbody tr th:only-of-type {\n",
       "        vertical-align: middle;\n",
       "    }\n",
       "\n",
       "    .dataframe tbody tr th {\n",
       "        vertical-align: top;\n",
       "    }\n",
       "\n",
       "    .dataframe thead th {\n",
       "        text-align: right;\n",
       "    }\n",
       "</style>\n",
       "<table border=\"1\" class=\"dataframe\">\n",
       "  <thead>\n",
       "    <tr style=\"text-align: right;\">\n",
       "      <th></th>\n",
       "    </tr>\n",
       "  </thead>\n",
       "  <tbody>\n",
       "    <tr>\n",
       "      <th>AL627309.1</th>\n",
       "    </tr>\n",
       "    <tr>\n",
       "      <th>AL627309.5</th>\n",
       "    </tr>\n",
       "    <tr>\n",
       "      <th>AL627309.4</th>\n",
       "    </tr>\n",
       "    <tr>\n",
       "      <th>AL669831.2</th>\n",
       "    </tr>\n",
       "    <tr>\n",
       "      <th>LINC01409</th>\n",
       "    </tr>\n",
       "  </tbody>\n",
       "</table>\n",
       "</div>"
      ],
      "text/plain": [
       "Empty DataFrame\n",
       "Columns: []\n",
       "Index: [AL627309.1, AL627309.5, AL627309.4, AL669831.2, LINC01409]"
      ]
     },
     "metadata": {},
     "output_type": "display_data"
    },
    {
     "name": "stdout",
     "output_type": "stream",
     "text": [
      "The counts are represented in data.X as a numpy array; dimensions:  (6099, 34546)\n"
     ]
    }
   ],
   "source": [
    "# observations: cells\n",
    "print('cells')\n",
    "display(data.obs.head())\n",
    "# variables: genes\n",
    "print('genes')\n",
    "display(data.var.head())\n",
    "print('The counts are represented in data.X as a numpy array; dimensions: ',data.X.shape)\n"
   ]
  },
  {
   "cell_type": "markdown",
   "metadata": {},
   "source": [
    "## Preprocessing"
   ]
  },
  {
   "cell_type": "markdown",
   "metadata": {},
   "source": [
    "### Doublet removal\n",
    "\n",
    "not necessary but recommendeed in single cell, because sometimes 2+ cells end up in the same dropplet"
   ]
  },
  {
   "cell_type": "markdown",
   "metadata": {},
   "source": [
    "### Filtering genes and cells\n",
    "\n",
    "starting by labeling"
   ]
  },
  {
   "cell_type": "markdown",
   "metadata": {},
   "source": [
    "**Mitochondrial genes**: in humans usually start with MT- (not always but in general - they are all 13 genes only so cv we can have a list and remove it)"
   ]
  },
  {
   "cell_type": "code",
   "execution_count": 4,
   "metadata": {},
   "outputs": [
    {
     "data": {
      "text/html": [
       "<div>\n",
       "<style scoped>\n",
       "    .dataframe tbody tr th:only-of-type {\n",
       "        vertical-align: middle;\n",
       "    }\n",
       "\n",
       "    .dataframe tbody tr th {\n",
       "        vertical-align: top;\n",
       "    }\n",
       "\n",
       "    .dataframe thead th {\n",
       "        text-align: right;\n",
       "    }\n",
       "</style>\n",
       "<table border=\"1\" class=\"dataframe\">\n",
       "  <thead>\n",
       "    <tr style=\"text-align: right;\">\n",
       "      <th></th>\n",
       "    </tr>\n",
       "  </thead>\n",
       "  <tbody>\n",
       "    <tr>\n",
       "      <th>MT-ND1</th>\n",
       "    </tr>\n",
       "    <tr>\n",
       "      <th>MT-ND2</th>\n",
       "    </tr>\n",
       "    <tr>\n",
       "      <th>MT-CO1</th>\n",
       "    </tr>\n",
       "    <tr>\n",
       "      <th>MT-CO2</th>\n",
       "    </tr>\n",
       "    <tr>\n",
       "      <th>MT-ATP8</th>\n",
       "    </tr>\n",
       "  </tbody>\n",
       "</table>\n",
       "</div>"
      ],
      "text/plain": [
       "Empty DataFrame\n",
       "Columns: []\n",
       "Index: [MT-ND1, MT-ND2, MT-CO1, MT-CO2, MT-ATP8]"
      ]
     },
     "metadata": {},
     "output_type": "display_data"
    },
    {
     "name": "stdout",
     "output_type": "stream",
     "text": [
      "mitochodrial boolean added as a column\n"
     ]
    },
    {
     "data": {
      "text/html": [
       "<div>\n",
       "<style scoped>\n",
       "    .dataframe tbody tr th:only-of-type {\n",
       "        vertical-align: middle;\n",
       "    }\n",
       "\n",
       "    .dataframe tbody tr th {\n",
       "        vertical-align: top;\n",
       "    }\n",
       "\n",
       "    .dataframe thead th {\n",
       "        text-align: right;\n",
       "    }\n",
       "</style>\n",
       "<table border=\"1\" class=\"dataframe\">\n",
       "  <thead>\n",
       "    <tr style=\"text-align: right;\">\n",
       "      <th></th>\n",
       "      <th>MT</th>\n",
       "    </tr>\n",
       "  </thead>\n",
       "  <tbody>\n",
       "    <tr>\n",
       "      <th>AL627309.1</th>\n",
       "      <td>False</td>\n",
       "    </tr>\n",
       "    <tr>\n",
       "      <th>AL627309.5</th>\n",
       "      <td>False</td>\n",
       "    </tr>\n",
       "    <tr>\n",
       "      <th>AL627309.4</th>\n",
       "      <td>False</td>\n",
       "    </tr>\n",
       "    <tr>\n",
       "      <th>AL669831.2</th>\n",
       "      <td>False</td>\n",
       "    </tr>\n",
       "    <tr>\n",
       "      <th>LINC01409</th>\n",
       "      <td>False</td>\n",
       "    </tr>\n",
       "  </tbody>\n",
       "</table>\n",
       "</div>"
      ],
      "text/plain": [
       "               MT\n",
       "AL627309.1  False\n",
       "AL627309.5  False\n",
       "AL627309.4  False\n",
       "AL669831.2  False\n",
       "LINC01409   False"
      ]
     },
     "metadata": {},
     "output_type": "display_data"
    }
   ],
   "source": [
    "display(data.var[data.var.index.str.startswith('MT-')].head())\n",
    "# to add it as a boolean value (is mitochondrial) in a column called MT:\n",
    "data.var['MT']=data.var.index.str.startswith('MT-')\n",
    "print('mitochodrial boolean added as a column')\n",
    "display(data.var.head())"
   ]
  },
  {
   "cell_type": "markdown",
   "metadata": {},
   "source": [
    "i wont add ribosomal genes because it needs a url to access the genes and i dont have internet :p"
   ]
  },
  {
   "cell_type": "code",
   "execution_count": 5,
   "metadata": {},
   "outputs": [
    {
     "data": {
      "text/html": [
       "<div>\n",
       "<style scoped>\n",
       "    .dataframe tbody tr th:only-of-type {\n",
       "        vertical-align: middle;\n",
       "    }\n",
       "\n",
       "    .dataframe tbody tr th {\n",
       "        vertical-align: top;\n",
       "    }\n",
       "\n",
       "    .dataframe thead th {\n",
       "        text-align: right;\n",
       "    }\n",
       "</style>\n",
       "<table border=\"1\" class=\"dataframe\">\n",
       "  <thead>\n",
       "    <tr style=\"text-align: right;\">\n",
       "      <th></th>\n",
       "      <th>MT</th>\n",
       "      <th>n_cells_by_counts</th>\n",
       "      <th>mean_counts</th>\n",
       "      <th>pct_dropout_by_counts</th>\n",
       "      <th>total_counts</th>\n",
       "    </tr>\n",
       "  </thead>\n",
       "  <tbody>\n",
       "    <tr>\n",
       "      <th>AL627309.1</th>\n",
       "      <td>False</td>\n",
       "      <td>8</td>\n",
       "      <td>0.001312</td>\n",
       "      <td>99.868831</td>\n",
       "      <td>8.0</td>\n",
       "    </tr>\n",
       "    <tr>\n",
       "      <th>AL627309.5</th>\n",
       "      <td>False</td>\n",
       "      <td>33</td>\n",
       "      <td>0.005411</td>\n",
       "      <td>99.458928</td>\n",
       "      <td>33.0</td>\n",
       "    </tr>\n",
       "    <tr>\n",
       "      <th>AL627309.4</th>\n",
       "      <td>False</td>\n",
       "      <td>4</td>\n",
       "      <td>0.000656</td>\n",
       "      <td>99.934415</td>\n",
       "      <td>4.0</td>\n",
       "    </tr>\n",
       "    <tr>\n",
       "      <th>AL669831.2</th>\n",
       "      <td>False</td>\n",
       "      <td>2</td>\n",
       "      <td>0.000328</td>\n",
       "      <td>99.967208</td>\n",
       "      <td>2.0</td>\n",
       "    </tr>\n",
       "    <tr>\n",
       "      <th>LINC01409</th>\n",
       "      <td>False</td>\n",
       "      <td>274</td>\n",
       "      <td>0.048697</td>\n",
       "      <td>95.507460</td>\n",
       "      <td>297.0</td>\n",
       "    </tr>\n",
       "  </tbody>\n",
       "</table>\n",
       "</div>"
      ],
      "text/plain": [
       "               MT  n_cells_by_counts  mean_counts  pct_dropout_by_counts  \\\n",
       "AL627309.1  False                  8     0.001312              99.868831   \n",
       "AL627309.5  False                 33     0.005411              99.458928   \n",
       "AL627309.4  False                  4     0.000656              99.934415   \n",
       "AL669831.2  False                  2     0.000328              99.967208   \n",
       "LINC01409   False                274     0.048697              95.507460   \n",
       "\n",
       "            total_counts  \n",
       "AL627309.1           8.0  \n",
       "AL627309.5          33.0  \n",
       "AL627309.4           4.0  \n",
       "AL669831.2           2.0  \n",
       "LINC01409          297.0  "
      ]
     },
     "metadata": {},
     "output_type": "display_data"
    },
    {
     "name": "stdout",
     "output_type": "stream",
     "text": [
      "notice how high are % drop out\n"
     ]
    }
   ],
   "source": [
    "sc.pp.calculate_qc_metrics(data, qc_vars=['MT'], percent_top=None, log1p=False, inplace=True)\n",
    "#now look what happens :p\n",
    "display(data.var.head())\n",
    "print('notice how high are % drop out')"
   ]
  },
  {
   "cell_type": "markdown",
   "metadata": {},
   "source": [
    "now the cells"
   ]
  },
  {
   "cell_type": "code",
   "execution_count": 6,
   "metadata": {},
   "outputs": [
    {
     "name": "stdout",
     "output_type": "stream",
     "text": [
      "even obs have new cols now for mitochondrial counts\n"
     ]
    },
    {
     "data": {
      "text/html": [
       "<div>\n",
       "<style scoped>\n",
       "    .dataframe tbody tr th:only-of-type {\n",
       "        vertical-align: middle;\n",
       "    }\n",
       "\n",
       "    .dataframe tbody tr th {\n",
       "        vertical-align: top;\n",
       "    }\n",
       "\n",
       "    .dataframe thead th {\n",
       "        text-align: right;\n",
       "    }\n",
       "</style>\n",
       "<table border=\"1\" class=\"dataframe\">\n",
       "  <thead>\n",
       "    <tr style=\"text-align: right;\">\n",
       "      <th></th>\n",
       "      <th>n_genes_by_counts</th>\n",
       "      <th>total_counts</th>\n",
       "      <th>total_counts_MT</th>\n",
       "      <th>pct_counts_MT</th>\n",
       "    </tr>\n",
       "  </thead>\n",
       "  <tbody>\n",
       "    <tr>\n",
       "      <th>TAGGTACCATGGCCAC-1_1</th>\n",
       "      <td>6764</td>\n",
       "      <td>24256.0</td>\n",
       "      <td>153.0</td>\n",
       "      <td>0.630772</td>\n",
       "    </tr>\n",
       "    <tr>\n",
       "      <th>ATTCACTGTAACAGGC-1_1</th>\n",
       "      <td>6686</td>\n",
       "      <td>19020.0</td>\n",
       "      <td>404.0</td>\n",
       "      <td>2.124080</td>\n",
       "    </tr>\n",
       "    <tr>\n",
       "      <th>TAACTTCCAACCACGC-1_1</th>\n",
       "      <td>5158</td>\n",
       "      <td>15645.0</td>\n",
       "      <td>221.0</td>\n",
       "      <td>1.412592</td>\n",
       "    </tr>\n",
       "    <tr>\n",
       "      <th>TTGGGTACACGACAAG-1_1</th>\n",
       "      <td>4900</td>\n",
       "      <td>15220.0</td>\n",
       "      <td>3.0</td>\n",
       "      <td>0.019711</td>\n",
       "    </tr>\n",
       "    <tr>\n",
       "      <th>AGGCCACAGAGTCACG-1_1</th>\n",
       "      <td>5544</td>\n",
       "      <td>13217.0</td>\n",
       "      <td>417.0</td>\n",
       "      <td>3.155028</td>\n",
       "    </tr>\n",
       "  </tbody>\n",
       "</table>\n",
       "</div>"
      ],
      "text/plain": [
       "                      n_genes_by_counts  total_counts  total_counts_MT  \\\n",
       "TAGGTACCATGGCCAC-1_1               6764       24256.0            153.0   \n",
       "ATTCACTGTAACAGGC-1_1               6686       19020.0            404.0   \n",
       "TAACTTCCAACCACGC-1_1               5158       15645.0            221.0   \n",
       "TTGGGTACACGACAAG-1_1               4900       15220.0              3.0   \n",
       "AGGCCACAGAGTCACG-1_1               5544       13217.0            417.0   \n",
       "\n",
       "                      pct_counts_MT  \n",
       "TAGGTACCATGGCCAC-1_1       0.630772  \n",
       "ATTCACTGTAACAGGC-1_1       2.124080  \n",
       "TAACTTCCAACCACGC-1_1       1.412592  \n",
       "TTGGGTACACGACAAG-1_1       0.019711  \n",
       "AGGCCACAGAGTCACG-1_1       3.155028  "
      ]
     },
     "metadata": {},
     "output_type": "display_data"
    },
    {
     "ename": "",
     "evalue": "",
     "output_type": "error",
     "traceback": [
      "\u001b[1;31mThe Kernel crashed while executing code in the current cell or a previous cell. \n",
      "\u001b[1;31mPlease review the code in the cell(s) to identify a possible cause of the failure. \n",
      "\u001b[1;31mClick <a href='https://aka.ms/vscodeJupyterKernelCrash'>here</a> for more info. \n",
      "\u001b[1;31mView Jupyter <a href='command:jupyter.viewOutput'>log</a> for further details."
     ]
    }
   ],
   "source": [
    "print('even obs have new cols now for mitochondrial counts')\n",
    "display(data.obs.head())"
   ]
  },
  {
   "cell_type": "code",
   "execution_count": 7,
   "metadata": {},
   "outputs": [
    {
     "name": "stdout",
     "output_type": "stream",
     "text": [
      "many genes arent present, 0 or ~0 cells, we will remove those found in less than 3 cells\n"
     ]
    }
   ],
   "source": [
    "data.var.sort_values('n_cells_by_counts').head()\n",
    "print('many genes arent present, 0 or ~0 cells, we will remove those found in less than 3 cells')\n",
    "\n",
    "#filter genes function takes cells as argument\n",
    "#filter cells function takes genes as arg\n",
    "sc.pp.filter_genes(data,min_cells=3)\n",
    "# -- im assuming pp means for preprocessing\n",
    "display(data.var.head())"
   ]
  },
  {
   "cell_type": "markdown",
   "metadata": {},
   "source": [
    "typically we would filter by counts (total counts for eah cell), but we can clearly see - when sorted - that the data is already filetred by the paper's authors (less than 400 removed...)"
   ]
  },
  {
   "cell_type": "code",
   "execution_count": null,
   "metadata": {},
   "outputs": [],
   "source": [
    "data.obs.sort_values('total_counts').head()"
   ]
  },
  {
   "cell_type": "markdown",
   "metadata": {},
   "source": [
    "We will look for outliers"
   ]
  },
  {
   "cell_type": "code",
   "execution_count": null,
   "metadata": {},
   "outputs": [],
   "source": [
    "sc.pp.violin(data, ['n_genes_by_count','total_counts', 'pct_counts_mt'], jitter=0.4, multi_panel=True)\n",
    "print('now we can get rid of outliers; notice how genes by count and total counts are very highly correlated => can filter on one')\n",
    "print('usually mitochondrion filter is set anywhere from 5 til 20%')\n"
   ]
  },
  {
   "cell_type": "code",
   "execution_count": null,
   "metadata": {},
   "outputs": [],
   "source": [
    "import numpy as np #to filter by percentile\n",
    "# -- filtering genes by 98th percentile (objectively picking a value as threhold)\n",
    "upper_lim = np.quantile(data.obs.n_genes_by_counts.values, .98)\n",
    "print('and this is teh 98th percentile value that we will take as thresh for filtration:', upper_lim)\n",
    "data =  data[(data.obs.n_genes_by_counts < upper_lim)]\n",
    "\n",
    "print('20% for mit')\n",
    "data = data[(data.obs.pct_counts_mt < 20)]"
   ]
  },
  {
   "cell_type": "markdown",
   "metadata": {},
   "source": [
    "now data is filtered of outliers :)"
   ]
  },
  {
   "cell_type": "markdown",
   "metadata": {},
   "source": [
    "### Normalization"
   ]
  },
  {
   "cell_type": "markdown",
   "metadata": {},
   "source": [
    "same sum"
   ]
  },
  {
   "cell_type": "code",
   "execution_count": null,
   "metadata": {},
   "outputs": [],
   "source": [
    "print('look at the soum of ounts for each cell:',data.X.sum(axis=1))\n",
    "\n",
    "print('first thing: normalize counts in each cell so that total ccounts adds up to the same value')\n",
    "sc.pp.normalize_total(data, target_sum=1e4) # to 10,000 UMI\n",
    "print('check this out now :)', data.X.sum(axis=1))"
   ]
  },
  {
   "cell_type": "markdown",
   "metadata": {},
   "source": [
    "log transformation"
   ]
  },
  {
   "cell_type": "code",
   "execution_count": null,
   "metadata": {},
   "outputs": [],
   "source": [
    "print('making them on log counts (non linear transformation, they will be more comparable than before)')\n",
    "sc.pp.log1p(data)"
   ]
  },
  {
   "cell_type": "markdown",
   "metadata": {},
   "source": [
    "## Analysis"
   ]
  }
 ],
 "metadata": {
  "kernelspec": {
   "display_name": "base",
   "language": "python",
   "name": "python3"
  },
  "language_info": {
   "codemirror_mode": {
    "name": "ipython",
    "version": 3
   },
   "file_extension": ".py",
   "mimetype": "text/x-python",
   "name": "python",
   "nbconvert_exporter": "python",
   "pygments_lexer": "ipython3",
   "version": "3.11.5"
  }
 },
 "nbformat": 4,
 "nbformat_minor": 2
}
